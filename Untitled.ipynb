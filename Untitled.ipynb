{
 "cells": [
  {
   "cell_type": "markdown",
   "id": "b2bcc978",
   "metadata": {},
   "source": [
    "# **Credit Card Fraud Detection using Scikit-Learn and Snap ML**"
   ]
  },
  {
   "cell_type": "code",
   "execution_count": 1,
   "id": "4e63da28",
   "metadata": {},
   "outputs": [
    {
     "name": "stdout",
     "output_type": "stream",
     "text": [
      "Requirement already satisfied: opendatasets in /home/ryan/anaconda3/envs/py39/lib/python3.9/site-packages (0.1.22)\n",
      "Requirement already satisfied: tqdm in /home/ryan/anaconda3/envs/py39/lib/python3.9/site-packages (from opendatasets) (4.65.0)\n",
      "Requirement already satisfied: kaggle in /home/ryan/anaconda3/envs/py39/lib/python3.9/site-packages (from opendatasets) (1.5.15)\n",
      "Requirement already satisfied: click in /home/ryan/anaconda3/envs/py39/lib/python3.9/site-packages (from opendatasets) (8.1.3)\n",
      "Requirement already satisfied: six>=1.10 in /home/ryan/anaconda3/envs/py39/lib/python3.9/site-packages (from kaggle->opendatasets) (1.16.0)\n",
      "Requirement already satisfied: certifi in /home/ryan/anaconda3/envs/py39/lib/python3.9/site-packages (from kaggle->opendatasets) (2023.5.7)\n",
      "Requirement already satisfied: python-dateutil in /home/ryan/anaconda3/envs/py39/lib/python3.9/site-packages (from kaggle->opendatasets) (2.8.2)\n",
      "Requirement already satisfied: requests in /home/ryan/anaconda3/envs/py39/lib/python3.9/site-packages (from kaggle->opendatasets) (2.31.0)\n",
      "Requirement already satisfied: python-slugify in /home/ryan/anaconda3/envs/py39/lib/python3.9/site-packages (from kaggle->opendatasets) (8.0.1)\n",
      "Requirement already satisfied: urllib3 in /home/ryan/anaconda3/envs/py39/lib/python3.9/site-packages (from kaggle->opendatasets) (2.0.3)\n",
      "Requirement already satisfied: bleach in /home/ryan/anaconda3/envs/py39/lib/python3.9/site-packages (from kaggle->opendatasets) (6.0.0)\n",
      "Requirement already satisfied: webencodings in /home/ryan/anaconda3/envs/py39/lib/python3.9/site-packages (from bleach->kaggle->opendatasets) (0.5.1)\n",
      "Requirement already satisfied: text-unidecode>=1.3 in /home/ryan/anaconda3/envs/py39/lib/python3.9/site-packages (from python-slugify->kaggle->opendatasets) (1.3)\n",
      "Requirement already satisfied: charset-normalizer<4,>=2 in /home/ryan/anaconda3/envs/py39/lib/python3.9/site-packages (from requests->kaggle->opendatasets) (3.1.0)\n",
      "Requirement already satisfied: idna<4,>=2.5 in /home/ryan/anaconda3/envs/py39/lib/python3.9/site-packages (from requests->kaggle->opendatasets) (3.4)\n",
      "Please provide your Kaggle credentials to download this dataset. Learn more: http://bit.ly/kaggle-creds\n",
      "Your Kaggle username: ryankendrick93\n",
      "Your Kaggle Key: ········\n",
      "Your Kaggle Key: ········\n",
      "Downloading creditcardfraud.zip to ./creditcardfraud\n"
     ]
    },
    {
     "name": "stderr",
     "output_type": "stream",
     "text": [
      "100%|██████████████████████████████████████████████████████████████████████████████| 66.0M/66.0M [00:03<00:00, 22.6MB/s]\n"
     ]
    },
    {
     "name": "stdout",
     "output_type": "stream",
     "text": [
      "\n"
     ]
    }
   ],
   "source": [
    "!pip install opendatasets\n",
    "\n",
    "import opendatasets as od\n",
    "od.download(\"https://www.kaggle.com/mlg-ulb/creditcardfraud\")"
   ]
  },
  {
   "cell_type": "code",
   "execution_count": null,
   "id": "479c6144",
   "metadata": {},
   "outputs": [],
   "source": []
  }
 ],
 "metadata": {
  "kernelspec": {
   "display_name": "Python 3 (ipykernel)",
   "language": "python",
   "name": "python3"
  },
  "language_info": {
   "codemirror_mode": {
    "name": "ipython",
    "version": 3
   },
   "file_extension": ".py",
   "mimetype": "text/x-python",
   "name": "python",
   "nbconvert_exporter": "python",
   "pygments_lexer": "ipython3",
   "version": "3.9.16"
  }
 },
 "nbformat": 4,
 "nbformat_minor": 5
}
